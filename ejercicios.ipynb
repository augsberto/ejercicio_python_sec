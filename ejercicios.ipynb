{
  "nbformat": 4,
  "nbformat_minor": 0,
  "metadata": {
    "colab": {
      "provenance": [],
      "authorship_tag": "ABX9TyMCa/B46+klSjqpXGCEJeAj",
      "include_colab_link": true
    },
    "kernelspec": {
      "name": "python3",
      "display_name": "Python 3"
    },
    "language_info": {
      "name": "python"
    }
  },
  "cells": [
    {
      "cell_type": "markdown",
      "metadata": {
        "id": "view-in-github",
        "colab_type": "text"
      },
      "source": [
        "<a href=\"https://colab.research.google.com/github/augsberto/ejercicio_python_sec/blob/main/ejercicios.ipynb\" target=\"_parent\"><img src=\"https://colab.research.google.com/assets/colab-badge.svg\" alt=\"Open In Colab\"/></a>"
      ]
    },
    {
      "cell_type": "code",
      "execution_count": 3,
      "metadata": {
        "id": "pwg4He9BbD0o",
        "outputId": "4544e320-0fee-4349-920c-b2302a173b42",
        "colab": {
          "base_uri": "https://localhost:8080/"
        }
      },
      "outputs": [
        {
          "output_type": "stream",
          "name": "stdout",
          "text": [
            "escriba su nombreaugsberto\n",
            "cual es tu edad19\n",
            "hola augsberto\n",
            "tienes 19 año\n"
          ]
        }
      ],
      "source": [
        "name = input(\"escriba su nombre\")\n",
        "age = int(input(\"cual es tu edad\"))\n",
        "print(\"hola\", name)\n",
        "print(\"tienes\", str(age), \"año\")\n"
      ]
    },
    {
      "cell_type": "markdown",
      "source": [
        "calcular el area de un rectangulo a partir de su base y su altura\n",
        "\n",
        "A = b*h"
      ],
      "metadata": {
        "id": "hyOD4xgwexhD"
      }
    },
    {
      "cell_type": "code",
      "source": [
        " print(\"programa para calcular el area de un triangulo\")\n",
        " b = float(input(\"ingresa la base (m): \"))\n",
        " h = float(input(\"ingresa la altura (m): \"))\n",
        " A = b*h\n",
        " print(\"el area del rectangulo con base\", str(b), \"(m) y altyura\", str(h), \"(m) es\" , str(A), \"M2\")"
      ],
      "metadata": {
        "id": "JYhSzE74euRM",
        "outputId": "7a71d427-e333-4a3a-c913-cab003efc82f",
        "colab": {
          "base_uri": "https://localhost:8080/"
        }
      },
      "execution_count": 4,
      "outputs": [
        {
          "output_type": "stream",
          "name": "stdout",
          "text": [
            "programa para calcular el area de un triangulo\n",
            "ingresa la base (m): 54\n",
            "ingresa la altura (m): 50\n",
            "el area del rectangulo con base 54.0 (m) y altyura 50.0 (m) es 2700.0 M2\n"
          ]
        }
      ]
    },
    {
      "cell_type": "markdown",
      "source": [
        "calcular el area de un triangulo\n",
        "\n",
        "A = b*h/2"
      ],
      "metadata": {
        "id": "dkg_ISquiWbY"
      }
    },
    {
      "cell_type": "code",
      "source": [
        "print(\"programa para calcular el are de un triangulo\")\n",
        "b = float(input(\"ingrese la base (m): \"))\n",
        "h = float(input(\"ingrese la base \"))\n",
        "A = b * h / 2\n",
        "print(\"el area del triangulo con base\", str(b), \"(m) y la alyura\", str(h), \"(m) es\" , str(A), \"m2\")"
      ],
      "metadata": {
        "id": "N4XDG2RJjfn0",
        "outputId": "22369bf7-0188-4c0c-aec3-73e1864dd91d",
        "colab": {
          "base_uri": "https://localhost:8080/"
        }
      },
      "execution_count": 5,
      "outputs": [
        {
          "output_type": "stream",
          "name": "stdout",
          "text": [
            "programa para calcular el are de un triangulo\n",
            "ingrese la base (m): 5\n",
            "ingrese la base 9\n",
            "el area del triangulo con base 5.0 (m) y la alyura 9.0 (m) es 22.5 m2\n"
          ]
        }
      ]
    },
    {
      "cell_type": "markdown",
      "source": [
        "calcularv el area de un circulo\n",
        "\n",
        "A = pi*r**2"
      ],
      "metadata": {
        "id": "1THQlqUml9op"
      }
    },
    {
      "cell_type": "code",
      "source": [
        "import math\n",
        "print(\"programa para calcular el area de un circulo\")\n",
        "r = float(input(\"ingrese el radio (m): \"))\n",
        "A = math.pi * r ** 2\n",
        "print(\"el area de un circulo con radio\", str(b), \"(m)y altura\", str(h), \"(m) es\" , str(A), \"m2\")"
      ],
      "metadata": {
        "id": "21hwgX7JmKQ6",
        "outputId": "a541cce5-3968-4243-fac6-bc17ee005123",
        "colab": {
          "base_uri": "https://localhost:8080/"
        }
      },
      "execution_count": 6,
      "outputs": [
        {
          "output_type": "stream",
          "name": "stdout",
          "text": [
            "programa para calcular el area de un circulo\n",
            "ingrese el radio (m): 2\n",
            "el area de un circulo con radio 5.0 (m)y altura 9.0 (m) es 12.566370614359172 m2\n"
          ]
        }
      ]
    },
    {
      "cell_type": "code",
      "source": [],
      "metadata": {
        "id": "TXP8MMn1oBTE"
      },
      "execution_count": null,
      "outputs": []
    },
    {
      "cell_type": "markdown",
      "source": [],
      "metadata": {
        "id": "e86ibRFMfUZg"
      }
    }
  ]
}