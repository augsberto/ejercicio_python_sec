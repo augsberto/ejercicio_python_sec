{
  "nbformat": 4,
  "nbformat_minor": 0,
  "metadata": {
    "colab": {
      "provenance": [],
      "authorship_tag": "ABX9TyPXXdDNgopOX0aidEjwpoTz",
      "include_colab_link": true
    },
    "kernelspec": {
      "name": "python3",
      "display_name": "Python 3"
    },
    "language_info": {
      "name": "python"
    }
  },
  "cells": [
    {
      "cell_type": "markdown",
      "metadata": {
        "id": "view-in-github",
        "colab_type": "text"
      },
      "source": [
        "<a href=\"https://colab.research.google.com/github/augsberto/ejercicio_python_sec/blob/main/Untitled1.ipynb\" target=\"_parent\"><img src=\"https://colab.research.google.com/assets/colab-badge.svg\" alt=\"Open In Colab\"/></a>"
      ]
    },
    {
      "cell_type": "code",
      "source": [
        "i = 1\n",
        "n = 100\n",
        "while i <= 100:\n",
        "  print(i)\n",
        "  i = i + 1\n",
        "suma = (n*(n + 1))/2\n",
        "print(\"suma: \", suma)\n"
      ],
      "metadata": {
        "colab": {
          "base_uri": "https://localhost:8080/"
        },
        "id": "j1sN_k77jlAn",
        "outputId": "3d4bcc2e-903e-4e41-8176-4f6a3131dfb1"
      },
      "execution_count": null,
      "outputs": [
        {
          "output_type": "stream",
          "name": "stdout",
          "text": [
            "1\n",
            "2\n",
            "3\n",
            "4\n",
            "5\n",
            "6\n",
            "7\n",
            "8\n",
            "9\n",
            "10\n",
            "11\n",
            "12\n",
            "13\n",
            "14\n",
            "15\n",
            "16\n",
            "17\n",
            "18\n",
            "19\n",
            "20\n",
            "21\n",
            "22\n",
            "23\n",
            "24\n",
            "25\n",
            "26\n",
            "27\n",
            "28\n",
            "29\n",
            "30\n",
            "31\n",
            "32\n",
            "33\n",
            "34\n",
            "35\n",
            "36\n",
            "37\n",
            "38\n",
            "39\n",
            "40\n",
            "41\n",
            "42\n",
            "43\n",
            "44\n",
            "45\n",
            "46\n",
            "47\n",
            "48\n",
            "49\n",
            "50\n",
            "51\n",
            "52\n",
            "53\n",
            "54\n",
            "55\n",
            "56\n",
            "57\n",
            "58\n",
            "59\n",
            "60\n",
            "61\n",
            "62\n",
            "63\n",
            "64\n",
            "65\n",
            "66\n",
            "67\n",
            "68\n",
            "69\n",
            "70\n",
            "71\n",
            "72\n",
            "73\n",
            "74\n",
            "75\n",
            "76\n",
            "77\n",
            "78\n",
            "79\n",
            "80\n",
            "81\n",
            "82\n",
            "83\n",
            "84\n",
            "85\n",
            "86\n",
            "87\n",
            "88\n",
            "89\n",
            "90\n",
            "91\n",
            "92\n",
            "93\n",
            "94\n",
            "95\n",
            "96\n",
            "97\n",
            "98\n",
            "99\n",
            "100\n",
            "suma:  5050.0\n"
          ]
        }
      ]
    },
    {
      "cell_type": "code",
      "source": [
        "min = int(input(\"ingrese el limite inferior del intervalo \"))\n",
        "max = int(input(\"ingrese el limite superior del intervalo \"))\n",
        "\n",
        "while min <= max:\n",
        "  if min % 2 == 0:\n",
        "    print(min)\n",
        "  min = min + 1\n"
      ],
      "metadata": {
        "colab": {
          "base_uri": "https://localhost:8080/"
        },
        "id": "LZ5naBRboS-G",
        "outputId": "ce3ceb41-481c-4a78-b9c5-456bbbe7a99d"
      },
      "execution_count": null,
      "outputs": [
        {
          "output_type": "stream",
          "name": "stdout",
          "text": [
            "ingrese el limite inferior del intervalo 1\n",
            "ingrese el limite superior del intervalo 10\n",
            "2\n",
            "4\n",
            "6\n",
            "8\n",
            "10\n"
          ]
        }
      ]
    },
    {
      "cell_type": "markdown",
      "source": [],
      "metadata": {
        "id": "xqpqA-PTjnFi"
      }
    },
    {
      "cell_type": "code",
      "source": [
        "x = int(input(\"ingrese un numero \"))\n",
        "\n",
        "pares = 0\n",
        "impares = 0\n",
        "\n",
        "actuales = 1\n",
        "\n",
        "while actuales <= x:\n",
        "  if actuales % 2 == 0:\n",
        "    pares += 1\n",
        "\n",
        "  else:\n",
        "    impares += 1\n",
        "  actuales += 1\n",
        "print(\"numeros pares\", pares)\n",
        "print(\"numeros impares\", impares)"
      ],
      "metadata": {
        "colab": {
          "base_uri": "https://localhost:8080/"
        },
        "id": "96FZytOQqa-F",
        "outputId": "1499eb14-121d-4dbf-85ae-3eb83d76ff23"
      },
      "execution_count": null,
      "outputs": [
        {
          "output_type": "stream",
          "name": "stdout",
          "text": [
            "ingrese un numero 88\n",
            "numeros pares 44\n",
            "numeros impares 44\n"
          ]
        }
      ]
    },
    {
      "cell_type": "code",
      "source": [
        "num = 0\n",
        "suma = 0\n",
        "while num >= 0:\n",
        "  num = int(input(\"ingrese un numero entero \"))\n",
        "  suma = suma + num\n",
        "\n",
        "print(\"el valor de la suma es: \", suma)"
      ],
      "metadata": {
        "colab": {
          "base_uri": "https://localhost:8080/"
        },
        "id": "SU9XNyJ8xO9Z",
        "outputId": "6373ccbc-4776-4043-af8f-88c3ca3a1911"
      },
      "execution_count": null,
      "outputs": [
        {
          "output_type": "stream",
          "name": "stdout",
          "text": [
            "ingrese un numero entero 5\n",
            "ingrese un numero entero 3\n",
            "ingrese un numero entero 2\n",
            "ingrese un numero entero -5\n",
            "el valor de la suma es:  5\n"
          ]
        }
      ]
    },
    {
      "cell_type": "code",
      "source": [
        "num = int(input(\"ingrse un numero \"))\n",
        "i = 1\n",
        "suma = 0\n",
        "while i<= num:\n",
        "  if i % 2 == 0:\n",
        "    suma = suma + i\n",
        "  i = i + 1\n",
        "\n",
        "print(\"la suma  de los numeros pares es\", suma)\n",
        "\n"
      ],
      "metadata": {
        "colab": {
          "base_uri": "https://localhost:8080/"
        },
        "id": "R0ofH_kTR6xG",
        "outputId": "10270306-28a7-452e-c300-fd8260fbec36"
      },
      "execution_count": 14,
      "outputs": [
        {
          "output_type": "stream",
          "name": "stdout",
          "text": [
            "ingrse un numero 10\n",
            "la suma  de los numeros pares es 30\n"
          ]
        }
      ]
    },
    {
      "cell_type": "code",
      "source": [
        "num = int(input(\"ingrese un numero: \"))\n",
        "i = 0\n",
        "while i<= 10:\n",
        "  print(num,\" x \", i, \" = \", (num*i))\n",
        "  i = i + 1\n",
        "\n",
        ""
      ],
      "metadata": {
        "colab": {
          "base_uri": "https://localhost:8080/"
        },
        "id": "p4sfkjUgW6QF",
        "outputId": "158d70d4-cfab-4cab-d735-9b96ed2d40d3"
      },
      "execution_count": 28,
      "outputs": [
        {
          "output_type": "stream",
          "name": "stdout",
          "text": [
            "ingrese un numero: -5\n",
            "-5  x  0  =  0\n",
            "-5  x  1  =  -5\n",
            "-5  x  2  =  -10\n",
            "-5  x  3  =  -15\n",
            "-5  x  4  =  -20\n",
            "-5  x  5  =  -25\n",
            "-5  x  6  =  -30\n",
            "-5  x  7  =  -35\n",
            "-5  x  8  =  -40\n",
            "-5  x  9  =  -45\n",
            "-5  x  10  =  -50\n"
          ]
        }
      ]
    },
    {
      "cell_type": "code",
      "source": [
        "from os.path import basename\n",
        "base = int(input(\"ingrese un numero (base)\"))\n",
        "exp = int(input(\"ingrse un exponente \"))\n",
        "\n",
        "if exp == 0:\n",
        "  print(1)\n",
        "else:\n",
        "  i = 1\n",
        "  resultado = base\n",
        "  while i < exp:\n",
        "    resultado = resultado * base\n",
        "    i = i + 1\n",
        "\n",
        "  print(resultado)\n",
        "\n"
      ],
      "metadata": {
        "colab": {
          "base_uri": "https://localhost:8080/"
        },
        "id": "rctyWDfmVgip",
        "outputId": "7a4dea02-f6e3-4e64-e085-42d881fc58af"
      },
      "execution_count": 31,
      "outputs": [
        {
          "output_type": "stream",
          "name": "stdout",
          "text": [
            "ingrese un numero (base)2\n",
            "ingrse un exponente 0\n",
            "1\n"
          ]
        }
      ]
    }
  ]
}