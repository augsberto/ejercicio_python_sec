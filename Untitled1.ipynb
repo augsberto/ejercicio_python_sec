{
  "cells": [
    {
      "cell_type": "markdown",
      "metadata": {
        "id": "view-in-github",
        "colab_type": "text"
      },
      "source": [
        "<a href=\"https://colab.research.google.com/github/augsberto/ejercicio_python_sec/blob/main/Untitled1.ipynb\" target=\"_parent\"><img src=\"https://colab.research.google.com/assets/colab-badge.svg\" alt=\"Open In Colab\"/></a>"
      ]
    },
    {
      "cell_type": "code",
      "execution_count": null,
      "metadata": {
        "colab": {
          "base_uri": "https://localhost:8080/"
        },
        "id": "j1sN_k77jlAn",
        "outputId": "3d4bcc2e-903e-4e41-8176-4f6a3131dfb1"
      },
      "outputs": [
        {
          "name": "stdout",
          "output_type": "stream",
          "text": [
            "1\n",
            "2\n",
            "3\n",
            "4\n",
            "5\n",
            "6\n",
            "7\n",
            "8\n",
            "9\n",
            "10\n",
            "11\n",
            "12\n",
            "13\n",
            "14\n",
            "15\n",
            "16\n",
            "17\n",
            "18\n",
            "19\n",
            "20\n",
            "21\n",
            "22\n",
            "23\n",
            "24\n",
            "25\n",
            "26\n",
            "27\n",
            "28\n",
            "29\n",
            "30\n",
            "31\n",
            "32\n",
            "33\n",
            "34\n",
            "35\n",
            "36\n",
            "37\n",
            "38\n",
            "39\n",
            "40\n",
            "41\n",
            "42\n",
            "43\n",
            "44\n",
            "45\n",
            "46\n",
            "47\n",
            "48\n",
            "49\n",
            "50\n",
            "51\n",
            "52\n",
            "53\n",
            "54\n",
            "55\n",
            "56\n",
            "57\n",
            "58\n",
            "59\n",
            "60\n",
            "61\n",
            "62\n",
            "63\n",
            "64\n",
            "65\n",
            "66\n",
            "67\n",
            "68\n",
            "69\n",
            "70\n",
            "71\n",
            "72\n",
            "73\n",
            "74\n",
            "75\n",
            "76\n",
            "77\n",
            "78\n",
            "79\n",
            "80\n",
            "81\n",
            "82\n",
            "83\n",
            "84\n",
            "85\n",
            "86\n",
            "87\n",
            "88\n",
            "89\n",
            "90\n",
            "91\n",
            "92\n",
            "93\n",
            "94\n",
            "95\n",
            "96\n",
            "97\n",
            "98\n",
            "99\n",
            "100\n",
            "suma:  5050.0\n"
          ]
        }
      ],
      "source": [
        "i = 1\n",
        "n = 100\n",
        "while i <= 100:\n",
        "  print(i)\n",
        "  i = i + 1\n",
        "suma = (n*(n + 1))/2\n",
        "print(\"suma: \", suma)\n"
      ]
    },
    {
      "cell_type": "code",
      "execution_count": null,
      "metadata": {
        "colab": {
          "base_uri": "https://localhost:8080/"
        },
        "id": "LZ5naBRboS-G",
        "outputId": "ce3ceb41-481c-4a78-b9c5-456bbbe7a99d"
      },
      "outputs": [
        {
          "name": "stdout",
          "output_type": "stream",
          "text": [
            "ingrese el limite inferior del intervalo 1\n",
            "ingrese el limite superior del intervalo 10\n",
            "2\n",
            "4\n",
            "6\n",
            "8\n",
            "10\n"
          ]
        }
      ],
      "source": [
        "min = int(input(\"ingrese el limite inferior del intervalo \"))\n",
        "max = int(input(\"ingrese el limite superior del intervalo \"))\n",
        "\n",
        "while min <= max:\n",
        "  if min % 2 == 0:\n",
        "    print(min)\n",
        "  min = min + 1\n"
      ]
    },
    {
      "cell_type": "markdown",
      "metadata": {
        "id": "xqpqA-PTjnFi"
      },
      "source": []
    },
    {
      "cell_type": "code",
      "execution_count": null,
      "metadata": {
        "colab": {
          "base_uri": "https://localhost:8080/"
        },
        "id": "96FZytOQqa-F",
        "outputId": "1499eb14-121d-4dbf-85ae-3eb83d76ff23"
      },
      "outputs": [
        {
          "name": "stdout",
          "output_type": "stream",
          "text": [
            "ingrese un numero 88\n",
            "numeros pares 44\n",
            "numeros impares 44\n"
          ]
        }
      ],
      "source": [
        "x = int(input(\"ingrese un numero \"))\n",
        "\n",
        "pares = 0\n",
        "impares = 0\n",
        "\n",
        "actuales = 1\n",
        "\n",
        "while actuales <= x:\n",
        "  if actuales % 2 == 0:\n",
        "    pares += 1\n",
        "\n",
        "  else:\n",
        "    impares += 1\n",
        "  actuales += 1\n",
        "print(\"numeros pares\", pares)\n",
        "print(\"numeros impares\", impares)"
      ]
    },
    {
      "cell_type": "code",
      "execution_count": null,
      "metadata": {
        "colab": {
          "base_uri": "https://localhost:8080/"
        },
        "id": "SU9XNyJ8xO9Z",
        "outputId": "6373ccbc-4776-4043-af8f-88c3ca3a1911"
      },
      "outputs": [
        {
          "name": "stdout",
          "output_type": "stream",
          "text": [
            "ingrese un numero entero 5\n",
            "ingrese un numero entero 3\n",
            "ingrese un numero entero 2\n",
            "ingrese un numero entero -5\n",
            "el valor de la suma es:  5\n"
          ]
        }
      ],
      "source": [
        "num = 0\n",
        "suma = 0\n",
        "while num >= 0:\n",
        "  num = int(input(\"ingrese un numero entero \"))\n",
        "  suma = suma + num\n",
        "\n",
        "print(\"el valor de la suma es: \", suma)"
      ]
    },
    {
      "cell_type": "code",
      "execution_count": null,
      "metadata": {
        "colab": {
          "base_uri": "https://localhost:8080/"
        },
        "id": "R0ofH_kTR6xG",
        "outputId": "10270306-28a7-452e-c300-fd8260fbec36"
      },
      "outputs": [
        {
          "name": "stdout",
          "output_type": "stream",
          "text": [
            "ingrse un numero 10\n",
            "la suma  de los numeros pares es 30\n"
          ]
        }
      ],
      "source": [
        "num = int(input(\"ingrse un numero \"))\n",
        "i = 1\n",
        "suma = 0\n",
        "while i<= num:\n",
        "  if i % 2 == 0:\n",
        "    suma = suma + i\n",
        "  i = i + 1\n",
        "\n",
        "print(\"la suma  de los numeros pares es\", suma)\n",
        "\n"
      ]
    },
    {
      "cell_type": "code",
      "execution_count": null,
      "metadata": {
        "colab": {
          "background_save": true,
          "base_uri": "https://localhost:8080/",
          "height": 140
        },
        "id": "p4sfkjUgW6QF",
        "outputId": "04f91f70-e745-44aa-a1aa-31af75c8fb90"
      },
      "outputs": [
        {
          "ename": "SyntaxError",
          "evalue": "ignored",
          "output_type": "error",
          "traceback": [
            "\u001b[0;36m  File \u001b[0;32m\"<ipython-input-18-0815df4c9d17>\"\u001b[0;36m, line \u001b[0;32m1\u001b[0m\n\u001b[0;31m    num = int(input(\"ingrese un numero: \")\u001b[0m\n\u001b[0m             ^\u001b[0m\n\u001b[0;31mSyntaxError\u001b[0m\u001b[0;31m:\u001b[0m '(' was never closed\n"
          ]
        }
      ],
      "source": [
        "num = int(input(\"ingrese un numero: \")\n",
        "i = 1\n",
        "while i <= 10:\n",
        "  print(num,\" x \")\n",
        "  i = i + 1\n"
      ]
    },
    {
      "cell_type": "code",
      "execution_count": null,
      "metadata": {
        "id": "rctyWDfmVgip",
        "colab": {
          "base_uri": "https://localhost:8080/"
        },
        "outputId": "55fffaf4-8e17-44c6-c7c4-ca0f1c79e34c"
      },
      "outputs": [
        {
          "output_type": "stream",
          "name": "stdout",
          "text": [
            "1\n",
            "2\n",
            "3\n",
            "4\n",
            "5\n",
            "6\n",
            "7\n",
            "8\n",
            "9\n"
          ]
        }
      ],
      "source": [
        "for i in range(1,10):\n",
        "    print(i)"
      ]
    },
    {
      "cell_type": "code",
      "source": [
        "for i in range(1,20,1):\n",
        "    print(i)\n"
      ],
      "metadata": {
        "colab": {
          "base_uri": "https://localhost:8080/"
        },
        "id": "RC76L4c9bGRg",
        "outputId": "97cfd2da-f1a6-4802-c560-06cb691bb3fe"
      },
      "execution_count": null,
      "outputs": [
        {
          "output_type": "stream",
          "name": "stdout",
          "text": [
            "1\n",
            "2\n",
            "3\n",
            "4\n",
            "5\n",
            "6\n",
            "7\n",
            "8\n",
            "9\n",
            "10\n",
            "11\n",
            "12\n",
            "13\n",
            "14\n",
            "15\n",
            "16\n",
            "17\n",
            "18\n",
            "19\n"
          ]
        }
      ]
    },
    {
      "cell_type": "code",
      "source": [
        "for i in range(1,20,3):\n",
        "    print(i)"
      ],
      "metadata": {
        "colab": {
          "base_uri": "https://localhost:8080/"
        },
        "id": "nv4FDohdb4aE",
        "outputId": "729833dc-b347-495a-eb92-ffa6eeb47ed8"
      },
      "execution_count": null,
      "outputs": [
        {
          "output_type": "stream",
          "name": "stdout",
          "text": [
            "1\n",
            "4\n",
            "7\n",
            "10\n",
            "13\n",
            "16\n",
            "19\n"
          ]
        }
      ]
    },
    {
      "cell_type": "code",
      "source": [
        "for i in range(0,101,2):\n",
        "    print(i)"
      ],
      "metadata": {
        "colab": {
          "base_uri": "https://localhost:8080/"
        },
        "id": "CG4LAvgNcYTU",
        "outputId": "a6b4fb99-e6f3-42ae-fa62-2555974eeac2"
      },
      "execution_count": null,
      "outputs": [
        {
          "output_type": "stream",
          "name": "stdout",
          "text": [
            "0\n",
            "2\n",
            "4\n",
            "6\n",
            "8\n",
            "10\n",
            "12\n",
            "14\n",
            "16\n",
            "18\n",
            "20\n",
            "22\n",
            "24\n",
            "26\n",
            "28\n",
            "30\n",
            "32\n",
            "34\n",
            "36\n",
            "38\n",
            "40\n",
            "42\n",
            "44\n",
            "46\n",
            "48\n",
            "50\n",
            "52\n",
            "54\n",
            "56\n",
            "58\n",
            "60\n",
            "62\n",
            "64\n",
            "66\n",
            "68\n",
            "70\n",
            "72\n",
            "74\n",
            "76\n",
            "78\n",
            "80\n",
            "82\n",
            "84\n",
            "86\n",
            "88\n",
            "90\n",
            "92\n",
            "94\n",
            "96\n",
            "98\n",
            "100\n"
          ]
        }
      ]
    },
    {
      "cell_type": "code",
      "source": [
        "for i in range(10,1,-1):\n",
        "    print(i)"
      ],
      "metadata": {
        "colab": {
          "base_uri": "https://localhost:8080/"
        },
        "id": "fsep1eGLdE9Z",
        "outputId": "c4fa90cd-1ad3-434c-ee01-0b229ea30447"
      },
      "execution_count": null,
      "outputs": [
        {
          "output_type": "stream",
          "name": "stdout",
          "text": [
            "10\n",
            "9\n",
            "8\n",
            "7\n",
            "6\n",
            "5\n",
            "4\n",
            "3\n",
            "2\n"
          ]
        }
      ]
    },
    {
      "cell_type": "code",
      "source": [
        "suma = 0\n",
        "for i in range(1,101):\n",
        "    print(i)\n",
        "    suma += i\n",
        "\n",
        "    print(\"suma= \", suma)"
      ],
      "metadata": {
        "colab": {
          "base_uri": "https://localhost:8080/"
        },
        "id": "Q4_kt6oRgYlT",
        "outputId": "fbedbf8a-4905-4a95-c599-4c4be8a828ca"
      },
      "execution_count": null,
      "outputs": [
        {
          "output_type": "stream",
          "name": "stdout",
          "text": [
            "1\n",
            "suma=  1\n",
            "2\n",
            "suma=  3\n",
            "3\n",
            "suma=  6\n",
            "4\n",
            "suma=  10\n",
            "5\n",
            "suma=  15\n",
            "6\n",
            "suma=  21\n",
            "7\n",
            "suma=  28\n",
            "8\n",
            "suma=  36\n",
            "9\n",
            "suma=  45\n",
            "10\n",
            "suma=  55\n",
            "11\n",
            "suma=  66\n",
            "12\n",
            "suma=  78\n",
            "13\n",
            "suma=  91\n",
            "14\n",
            "suma=  105\n",
            "15\n",
            "suma=  120\n",
            "16\n",
            "suma=  136\n",
            "17\n",
            "suma=  153\n",
            "18\n",
            "suma=  171\n",
            "19\n",
            "suma=  190\n",
            "20\n",
            "suma=  210\n",
            "21\n",
            "suma=  231\n",
            "22\n",
            "suma=  253\n",
            "23\n",
            "suma=  276\n",
            "24\n",
            "suma=  300\n",
            "25\n",
            "suma=  325\n",
            "26\n",
            "suma=  351\n",
            "27\n",
            "suma=  378\n",
            "28\n",
            "suma=  406\n",
            "29\n",
            "suma=  435\n",
            "30\n",
            "suma=  465\n",
            "31\n",
            "suma=  496\n",
            "32\n",
            "suma=  528\n",
            "33\n",
            "suma=  561\n",
            "34\n",
            "suma=  595\n",
            "35\n",
            "suma=  630\n",
            "36\n",
            "suma=  666\n",
            "37\n",
            "suma=  703\n",
            "38\n",
            "suma=  741\n",
            "39\n",
            "suma=  780\n",
            "40\n",
            "suma=  820\n",
            "41\n",
            "suma=  861\n",
            "42\n",
            "suma=  903\n",
            "43\n",
            "suma=  946\n",
            "44\n",
            "suma=  990\n",
            "45\n",
            "suma=  1035\n",
            "46\n",
            "suma=  1081\n",
            "47\n",
            "suma=  1128\n",
            "48\n",
            "suma=  1176\n",
            "49\n",
            "suma=  1225\n",
            "50\n",
            "suma=  1275\n",
            "51\n",
            "suma=  1326\n",
            "52\n",
            "suma=  1378\n",
            "53\n",
            "suma=  1431\n",
            "54\n",
            "suma=  1485\n",
            "55\n",
            "suma=  1540\n",
            "56\n",
            "suma=  1596\n",
            "57\n",
            "suma=  1653\n",
            "58\n",
            "suma=  1711\n",
            "59\n",
            "suma=  1770\n",
            "60\n",
            "suma=  1830\n",
            "61\n",
            "suma=  1891\n",
            "62\n",
            "suma=  1953\n",
            "63\n",
            "suma=  2016\n",
            "64\n",
            "suma=  2080\n",
            "65\n",
            "suma=  2145\n",
            "66\n",
            "suma=  2211\n",
            "67\n",
            "suma=  2278\n",
            "68\n",
            "suma=  2346\n",
            "69\n",
            "suma=  2415\n",
            "70\n",
            "suma=  2485\n",
            "71\n",
            "suma=  2556\n",
            "72\n",
            "suma=  2628\n",
            "73\n",
            "suma=  2701\n",
            "74\n",
            "suma=  2775\n",
            "75\n",
            "suma=  2850\n",
            "76\n",
            "suma=  2926\n",
            "77\n",
            "suma=  3003\n",
            "78\n",
            "suma=  3081\n",
            "79\n",
            "suma=  3160\n",
            "80\n",
            "suma=  3240\n",
            "81\n",
            "suma=  3321\n",
            "82\n",
            "suma=  3403\n",
            "83\n",
            "suma=  3486\n",
            "84\n",
            "suma=  3570\n",
            "85\n",
            "suma=  3655\n",
            "86\n",
            "suma=  3741\n",
            "87\n",
            "suma=  3828\n",
            "88\n",
            "suma=  3916\n",
            "89\n",
            "suma=  4005\n",
            "90\n",
            "suma=  4095\n",
            "91\n",
            "suma=  4186\n",
            "92\n",
            "suma=  4278\n",
            "93\n",
            "suma=  4371\n",
            "94\n",
            "suma=  4465\n",
            "95\n",
            "suma=  4560\n",
            "96\n",
            "suma=  4656\n",
            "97\n",
            "suma=  4753\n",
            "98\n",
            "suma=  4851\n",
            "99\n",
            "suma=  4950\n",
            "100\n",
            "suma=  5050\n"
          ]
        }
      ]
    },
    {
      "cell_type": "code",
      "source": [
        "num = int(input(\"ingresa el numero\"))\n",
        "factorial = 1\n",
        "for i in range(1,(num + 1)):\n",
        "    factorial *= i\n",
        "\n",
        "print(\"factorial=\", factorial)\n"
      ],
      "metadata": {
        "colab": {
          "base_uri": "https://localhost:8080/"
        },
        "id": "lBAlo85TiHkh",
        "outputId": "3b191bd3-ed6a-4078-f47b-e14c93d5fbc1"
      },
      "execution_count": null,
      "outputs": [
        {
          "output_type": "stream",
          "name": "stdout",
          "text": [
            "ingresa el numero4\n",
            "factorial= 24\n"
          ]
        }
      ]
    },
    {
      "cell_type": "code",
      "source": [
        "confirmar = \"SI\"\n",
        "num = 0\n",
        "max = 0\n",
        "min = 0\n",
        "primernum = True\n",
        "while confirmar ==\"SI\":\n",
        "  num = int(input(\"ingrese un numero\"))\n",
        "  if primernum:\n",
        "  max = num\n",
        "  min = num\n",
        "  primernum = True\n",
        "  if max < num:\n",
        "    max = num\n",
        "  confirmar = input(\"escriva SI para continuar o NO para finalizar \")\n",
        "if min > num:\n",
        "  min = num\n",
        "print(\"el numero mayor:\", max)\n",
        "print(\"el numeron menor:\", min)\n"
      ],
      "metadata": {
        "colab": {
          "base_uri": "https://localhost:8080/",
          "height": 140
        },
        "id": "wI8-GJgHdbnj",
        "outputId": "81a1ed39-d291-46c0-a73d-5d1d1bb44775"
      },
      "execution_count": 13,
      "outputs": [
        {
          "output_type": "error",
          "ename": "IndentationError",
          "evalue": "ignored",
          "traceback": [
            "\u001b[0;36m  File \u001b[0;32m\"<ipython-input-13-655a91d6470c>\"\u001b[0;36m, line \u001b[0;32m9\u001b[0m\n\u001b[0;31m    max = num\u001b[0m\n\u001b[0m    ^\u001b[0m\n\u001b[0;31mIndentationError\u001b[0m\u001b[0;31m:\u001b[0m expected an indented block after 'if' statement on line 8\n"
          ]
        }
      ]
    }
  ],
  "metadata": {
    "colab": {
      "provenance": [],
      "authorship_tag": "ABX9TyMrkexw2TptrNHRUCbYn9WN",
      "include_colab_link": true
    },
    "kernelspec": {
      "display_name": "Python 3",
      "name": "python3"
    },
    "language_info": {
      "name": "python"
    }
  },
  "nbformat": 4,
  "nbformat_minor": 0
}